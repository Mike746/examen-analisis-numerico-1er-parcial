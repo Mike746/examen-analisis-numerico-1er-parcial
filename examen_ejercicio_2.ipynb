{
  "nbformat": 4,
  "nbformat_minor": 0,
  "metadata": {
    "colab": {
      "name": "examen ejercicio 2",
      "provenance": [],
      "collapsed_sections": [],
      "authorship_tag": "ABX9TyP4z64Bm8uHXfB1Mw+Rz7TG",
      "include_colab_link": true
    },
    "kernelspec": {
      "name": "python3",
      "display_name": "Python 3"
    }
  },
  "cells": [
    {
      "cell_type": "markdown",
      "metadata": {
        "id": "view-in-github",
        "colab_type": "text"
      },
      "source": [
        "<a href=\"https://colab.research.google.com/github/Mike746/examen-analisis-numerico-1er-parcial/blob/main/examen_ejercicio_2.ipynb\" target=\"_parent\"><img src=\"https://colab.research.google.com/assets/colab-badge.svg\" alt=\"Open In Colab\"/></a>"
      ]
    },
    {
      "cell_type": "code",
      "metadata": {
        "id": "mTNyNnDsOSRa",
        "outputId": "858f30a7-a6d7-4782-8b34-eb5c9f5ab576",
        "colab": {
          "base_uri": "https://localhost:8080/"
        }
      },
      "source": [
        "def calculo(x):\n",
        "  f=3*x\n",
        "  fx=x**2+f+3\n",
        "  return fx\n",
        "x=-4\n",
        "while x<10:\n",
        "  if calculo(x)<=30:\n",
        "      lista=[]\n",
        "      lista.append(calculo(x))\n",
        "      print(\"sustituyendo x con:\",x, \"el resultado de la funcion es=\",lista)\n",
        "      x=x+1\n",
        "  else:\n",
        "    print(\"El resultado de f(x) es mayor a 30.\")\n",
        "    break\n"
      ],
      "execution_count": 72,
      "outputs": [
        {
          "output_type": "stream",
          "text": [
            "sustituyendo x con: -4 el resultado de la funcion es= [7]\n",
            "sustituyendo x con: -3 el resultado de la funcion es= [3]\n",
            "sustituyendo x con: -2 el resultado de la funcion es= [1]\n",
            "sustituyendo x con: -1 el resultado de la funcion es= [1]\n",
            "sustituyendo x con: 0 el resultado de la funcion es= [3]\n",
            "sustituyendo x con: 1 el resultado de la funcion es= [7]\n",
            "sustituyendo x con: 2 el resultado de la funcion es= [13]\n",
            "sustituyendo x con: 3 el resultado de la funcion es= [21]\n",
            "El resultado de f(x) es mayor a 30.\n"
          ],
          "name": "stdout"
        }
      ]
    }
  ]
}