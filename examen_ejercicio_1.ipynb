{
  "nbformat": 4,
  "nbformat_minor": 0,
  "metadata": {
    "colab": {
      "name": "examen ejercicio 1",
      "provenance": [],
      "collapsed_sections": [],
      "authorship_tag": "ABX9TyMOsgQSNSyzHDmewZayUo7B",
      "include_colab_link": true
    },
    "kernelspec": {
      "name": "python3",
      "display_name": "Python 3"
    }
  },
  "cells": [
    {
      "cell_type": "markdown",
      "metadata": {
        "id": "view-in-github",
        "colab_type": "text"
      },
      "source": [
        "<a href=\"https://colab.research.google.com/github/Mike746/examen-analisis-numerico-1er-parcial/blob/main/examen_ejercicio_1.ipynb\" target=\"_parent\"><img src=\"https://colab.research.google.com/assets/colab-badge.svg\" alt=\"Open In Colab\"/></a>"
      ]
    },
    {
      "cell_type": "code",
      "metadata": {
        "id": "IxwDIXO50Awp",
        "outputId": "b82ae30c-71d3-4da9-ea40-0f6b451f73b5",
        "colab": {
          "base_uri": "https://localhost:8080/"
        }
      },
      "source": [
        "x=-1\n",
        "while x<0:\n",
        " a = float (input(\"Introduzca el coeficiente de x^2: \"))\n",
        " b = float (input(\"Introduzca el coeficiente de x, por favor: \"))\n",
        " c = float (input(\"Introduzca el coeficiente indpendiente o constante: \"))\n",
        " x = (b**2)-(4*a*c)\n",
        " if x<0:\n",
        "  print(\"Error, el discriminante tiene que ser positivo\")\n",
        " else:\n",
        "  x1 = (-b + math.sqrt(x))/(2*a)\n",
        "  x2 = (-b - math.sqrt(x))/(2*a)\n",
        "  print(\"El valor de x1 es: \",x1)\n",
        "  print(\"El valor de x2 es: \",x2)"
      ],
      "execution_count": 73,
      "outputs": [
        {
          "output_type": "stream",
          "text": [
            "Introduzca el coeficiente de x^2: 5\n",
            "Introduzca el coeficiente de x, por favor: 12\n",
            "Introduzca el coeficiente indpendiente o constante: 3\n",
            "El valor de x1 es:  -0.283484861008832\n",
            "El valor de x2 es:  -2.1165151389911676\n"
          ],
          "name": "stdout"
        }
      ]
    }
  ]
}